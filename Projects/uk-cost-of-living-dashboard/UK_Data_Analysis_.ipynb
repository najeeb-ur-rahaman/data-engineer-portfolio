{
  "cells": [
    {
      "cell_type": "code",
      "execution_count": null,
      "metadata": {},
      "outputs": [],
      "source": [
        "pip install -r requirements.txt"
      ]
    },
    {
      "cell_type": "code",
      "execution_count": null,
      "metadata": {
        "colab": {
          "base_uri": "https://localhost:8080/",
          "height": 533
        },
        "id": "BJKdQEYEw4t8",
        "outputId": "7ac99e42-380e-4b69-9ce0-42d7b081de08"
      },
      "outputs": [],
      "source": [
        "# Read the mm23 file from the Datasets folder which consists of CPIH data\n",
        "import pandas as pd\n",
        "path = '../../Datasets/uk-cost-of-living-dashboard/mm23.csv'\n",
        "cpi_data = pd.read_csv(path)\n",
        "cpi_data.head()"
      ]
    },
    {
      "cell_type": "code",
      "execution_count": null,
      "metadata": {
        "colab": {
          "base_uri": "https://localhost:8080/",
          "height": 377
        },
        "id": "b_6L69usxEno",
        "outputId": "abef040e-feba-4490-d42c-eb684fa80925"
      },
      "outputs": [],
      "source": [
        "# Read the iphrp file from the Datasets folder which consists of IPHRP data\n",
        "path = '../../Datasets/uk-cost-of-living-dashboard/iphrp.csv'\n",
        "iphrp_data = pd.read_csv(path, skiprows=2)\n",
        "iphrp_data.head()"
      ]
    },
    {
      "cell_type": "code",
      "execution_count": null,
      "metadata": {
        "id": "W-dMbyTUO5RK"
      },
      "outputs": [],
      "source": [
        "# The file contains unwanted metadata and columns. The goal is to filter the required columns\n",
        "keep_columns = [\n",
        "    'Title',\n",
        "    'CPIH INDEX 00: ALL ITEMS 2015=100',\n",
        "    'CPIH ANNUAL RATE 00: ALL ITEMS 2015=100',\n",
        "    'CPIH INDEX 04: Housing, water, electricity, gas and other fuels 2015=100',\n",
        "    'CPIH ANNUAL RATE 04 : HOUSING, WATER AND FUELS 2015=100',\n",
        "    'CPIH INDEX 01 : FOOD AND NON-ALCOHOLIC BEVERAGES 2015=100',\n",
        "    'CPIH ANNUAL RATE 01 : FOOD AND NON-ALCOHOLIC BEVERAGES 2015=100'\n",
        "]\n",
        "\n",
        "cpi_data = cpi_data[keep_columns]\n",
        "cpi_data.head()"
      ]
    },
    {
      "cell_type": "code",
      "execution_count": null,
      "metadata": {
        "colab": {
          "base_uri": "https://localhost:8080/"
        },
        "id": "lH7KbYZXZGKH",
        "outputId": "76c7b42e-b9e5-44df-d8c5-a730d856784e"
      },
      "outputs": [],
      "source": [
        "# Rename the columns so they are easy to read and perform operations\n",
        "cpi_data.rename(columns={\n",
        "    'Title': 'Date',\n",
        "    'CPIH INDEX 00: ALL ITEMS 2015=100': 'CPIH_Index_All',\n",
        "    'CPIH ANNUAL RATE 00: ALL ITEMS 2015=100': 'CPIH_Inflation_All',\n",
        "    'CPIH INDEX 04: Housing, water, electricity, gas and other fuels 2015=100': 'CPIH_Index_Housing',\n",
        "    'CPIH ANNUAL RATE 04 : HOUSING, WATER AND FUELS 2015=100': 'CPIH_Inflation_Housing',\n",
        "    'CPIH INDEX 01 : FOOD AND NON-ALCOHOLIC BEVERAGES 2015=100': 'CPIH_Index_Food',\n",
        "    'CPIH ANNUAL RATE 01 : FOOD AND NON-ALCOHOLIC BEVERAGES 2015=100': 'CPIH_Inflation_Food'\n",
        "}, inplace=True)\n",
        "\n",
        "cpi_data.head()\n"
      ]
    },
    {
      "cell_type": "code",
      "execution_count": null,
      "metadata": {
        "colab": {
          "base_uri": "https://localhost:8080/",
          "height": 617
        },
        "id": "dcHFLl2ueM73",
        "outputId": "655ce035-879c-471c-977f-670c298a0370"
      },
      "outputs": [],
      "source": [
        "# The Data consists of unwanted rows. Filter the rows to find the rows with year and month\n",
        "import re\n",
        "\n",
        "monthly_df = cpi_data[cpi_data['Date'].str.match(r'^\\d{4}\\s[A-Z]{3}$', na=False)]\n",
        "\n",
        "monthly_df.head()"
      ]
    },
    {
      "cell_type": "code",
      "execution_count": null,
      "metadata": {
        "colab": {
          "base_uri": "https://localhost:8080/",
          "height": 721
        },
        "id": "q43uSb3eeN1j",
        "outputId": "e55cf992-9d5b-4888-e0fc-f791e0abc478"
      },
      "outputs": [],
      "source": [
        "# add a new column by Formatting the date so you can perform operations \n",
        "monthly_df['Formatted_Date'] = pd.to_datetime(monthly_df['Date'], format='%Y %b')\n",
        "monthly_df.head()"
      ]
    },
    {
      "cell_type": "code",
      "execution_count": null,
      "metadata": {
        "id": "w77ZuVxRiddz"
      },
      "outputs": [],
      "source": [
        "# Filter the data to last 25 years and reset the index \n",
        "final_df = monthly_df[monthly_df['Formatted_Date'] >= pd.to_datetime(\"2001-01-01\")]\n",
        "cpi_df = final_df.reset_index(drop=True)\n",
        "cpi_df.head()"
      ]
    },
    {
      "cell_type": "code",
      "execution_count": null,
      "metadata": {
        "colab": {
          "base_uri": "https://localhost:8080/",
          "height": 617
        },
        "id": "QG3NPBWPi4Z8",
        "outputId": "7b1ef402-b60e-4a4c-bb4c-136200cbf4d8"
      },
      "outputs": [],
      "source": [
        "# cpi_df = final_df.drop(columns=['Date_dt'], axis=1)\n",
        "# cpi_df"
      ]
    },
    {
      "cell_type": "code",
      "execution_count": null,
      "metadata": {
        "colab": {
          "base_uri": "https://localhost:8080/",
          "height": 363
        },
        "id": "DH05t4DXk-BG",
        "outputId": "1faee066-0c7f-47e5-e670-bea1208cf57a"
      },
      "outputs": [],
      "source": [
        "iphrp_data.head()"
      ]
    },
    {
      "cell_type": "code",
      "execution_count": null,
      "metadata": {
        "id": "wAiu6tpNiYXd"
      },
      "outputs": [],
      "source": [
        "# Drop all the rows with Year-on-year change. We will focus only on Index\n",
        "iphrp_index = iphrp_data[iphrp_data['IndexAndYearChange'] == 'Index'].copy()\n",
        "iphrp_index.head()"
      ]
    },
    {
      "cell_type": "code",
      "execution_count": null,
      "metadata": {
        "colab": {
          "base_uri": "https://localhost:8080/",
          "height": 325
        },
        "id": "QBgTbpoUsUOJ",
        "outputId": "d68d1c18-017d-4475-abca-22bf71aa0b0d"
      },
      "outputs": [],
      "source": [
        "# Drop the Data Marking columns as they are not required\n",
        "required_col = [col for col in iphrp_index.columns if 'Data Marking' not in str(col)]\n",
        "required_col_df = iphrp_index[required_col]\n",
        "required_col_df.head()"
      ]
    },
    {
      "cell_type": "code",
      "execution_count": null,
      "metadata": {
        "id": "fGIf-w4StI6c"
      },
      "outputs": [],
      "source": [
        "# use the melt function in pandas to bring all the dates into a column and drop the unwanted columns\n",
        "melted_df = pd.melt(required_col_df, id_vars=['Geography', 'Geography code', 'IndexAndYearChange'],\n",
        "                    var_name = 'Date',\n",
        "                    value_name='Rental_Index')\n",
        "melted_df.drop(columns=['Geography code', 'IndexAndYearChange'], axis=1, inplace=True)\n",
        "melted_df.head()"
      ]
    },
    {
      "cell_type": "code",
      "execution_count": null,
      "metadata": {
        "id": "Nm5MYc862xsM"
      },
      "outputs": [],
      "source": [
        "# Drop the null values and format the date to perform operations, sort the date \n",
        "melted_df.dropna(subset=['Rental_Index'], inplace=True)\n",
        "melted_df['Formatted_Date'] = pd.to_datetime(melted_df['Date'], format='%b-%y')\n",
        "melted_df.sort_values('Formatted_Date', inplace=True)\n",
        "iphrp_df = melted_df\n",
        "iphrp_df.head()"
      ]
    },
    {
      "cell_type": "code",
      "execution_count": null,
      "metadata": {},
      "outputs": [],
      "source": [
        "# Print the min and max dates\n",
        "print(cpi_df['Formatted_Date'].min())\n",
        "print(cpi_df['Formatted_Date'].max())\n",
        "print(iphrp_df['Formatted_Date'].min())\n",
        "print(iphrp_df['Formatted_Date'].max())"
      ]
    },
    {
      "cell_type": "code",
      "execution_count": null,
      "metadata": {},
      "outputs": [],
      "source": [
        "# Filter the CPIH date to match with the IPHRP date\n",
        "\n",
        "cpih_df = cpi_df[(cpi_df['Formatted_Date'] >= '2005-01-01') & (cpi_df['Formatted_Date'] <= '2023-12-01')]\n",
        "cpih_df = cpih_df.reset_index(drop=True) \n",
        "cpih_df.head()"
      ]
    },
    {
      "cell_type": "code",
      "execution_count": null,
      "metadata": {},
      "outputs": [],
      "source": [
        "cpih_df.head()"
      ]
    },
    {
      "cell_type": "code",
      "execution_count": null,
      "metadata": {},
      "outputs": [],
      "source": [
        "iphrp_df.head()"
      ]
    },
    {
      "cell_type": "code",
      "execution_count": null,
      "metadata": {},
      "outputs": [],
      "source": [
        "cpih_df.dtypes"
      ]
    },
    {
      "cell_type": "code",
      "execution_count": null,
      "metadata": {},
      "outputs": [],
      "source": [
        "iphrp_df.dtypes"
      ]
    },
    {
      "cell_type": "code",
      "execution_count": null,
      "metadata": {},
      "outputs": [],
      "source": [
        "merged_df = pd.merge(cpih_df, iphrp_df, on='Formatted_Date', how='inner')\n",
        "merged_df.head()"
      ]
    },
    {
      "cell_type": "code",
      "execution_count": null,
      "metadata": {},
      "outputs": [],
      "source": [
        "merged_df.drop(columns=['Date_y', 'Date_x'], inplace=True)\n",
        "merged_df.rename(columns={\n",
        "    'Formatted_Date': 'Date'\n",
        "}, inplace=True)\n",
        "merged_df.head()"
      ]
    },
    {
      "cell_type": "code",
      "execution_count": null,
      "metadata": {},
      "outputs": [],
      "source": [
        "merged_df.info()"
      ]
    },
    {
      "cell_type": "code",
      "execution_count": null,
      "metadata": {},
      "outputs": [],
      "source": [
        "import matplotlib.pyplot as plt\n",
        "\n",
        "england_df = merged_df[merged_df['Geography'] == 'England']\n",
        "\n",
        "england_df.plot(x='Date', y='CPIH_Index_All', kind='line', title='England CPIH Index Trend (2005-2023)', grid=True)\n",
        "\n",
        "plt.show()"
      ]
    },
    {
      "cell_type": "code",
      "execution_count": null,
      "metadata": {},
      "outputs": [],
      "source": [
        "merged_df.plot(x='Date', y='CPIH_Inflation_All', kind='line', title='UK Inflation Trend (2005-2023)', grid=True)\n",
        "\n",
        "plt.show()"
      ]
    },
    {
      "cell_type": "code",
      "execution_count": null,
      "metadata": {},
      "outputs": [],
      "source": [
        "merged_df['Geography'].unique()"
      ]
    },
    {
      "cell_type": "code",
      "execution_count": null,
      "metadata": {},
      "outputs": [],
      "source": [
        "\n",
        "england_df.plot(x='Date', y='Rental_Index', kind='line', title='Rental Index Trend (2005-2023)', grid=True)\n",
        "\n",
        "plt.show()"
      ]
    },
    {
      "cell_type": "code",
      "execution_count": null,
      "metadata": {},
      "outputs": [],
      "source": [
        "merged_df['Date'].unique()"
      ]
    },
    {
      "cell_type": "code",
      "execution_count": null,
      "metadata": {},
      "outputs": [],
      "source": [
        "df_2023 = merged_df[merged_df['Date'] == '2023-12-01']\n",
        "grouped_df = df_2023.groupby('Geography').agg(Rental_Index_Dec2023=('Rental_Index', 'mean')).reset_index()\n"
      ]
    },
    {
      "cell_type": "code",
      "execution_count": null,
      "metadata": {},
      "outputs": [],
      "source": [
        "grouped_df.sort_values(by='Rental_Index_Dec2023', inplace=True)"
      ]
    },
    {
      "cell_type": "code",
      "execution_count": null,
      "metadata": {},
      "outputs": [],
      "source": [
        "grouped_df.plot(x='Geography', y='Rental_Index_Dec2023', kind='bar', title='UK Regional Rental Index Comparison (Dec 2023)', grid=True, figsize=(10,7))"
      ]
    },
    {
      "cell_type": "code",
      "execution_count": null,
      "metadata": {},
      "outputs": [],
      "source": [
        "london_df = merged_df[merged_df['Geography'] == 'London']\n",
        "east_midlands_df = merged_df[merged_df['Geography'] == 'East Midlands']"
      ]
    },
    {
      "cell_type": "code",
      "execution_count": null,
      "metadata": {},
      "outputs": [],
      "source": [
        "plt.plot(london_df['Date'], london_df['Rental_Index'], label='London', color='blue')\n",
        "plt.plot(east_midlands_df['Date'], east_midlands_df['Rental_Index'], label='East Midlands', color='red')\n",
        "plt.title('London vs East Midlands Rental Trends')\n",
        "plt.title('London vs East Midlands Rental Trends')\n",
        "plt.xlabel('Year')\n",
        "plt.ylabel('Rental Index')\n",
        "\n",
        "plt.legend()\n",
        "\n",
        "plt.grid(True)\n",
        "plt.show()"
      ]
    },
    {
      "cell_type": "code",
      "execution_count": null,
      "metadata": {},
      "outputs": [],
      "source": [
        "# For London\n",
        "london_start = london_df[london_df['Date'] == '2005-01-01']['Rental_Index'].values[0]\n",
        "london_end = london_df[london_df['Date'] == '2023-12-01']['Rental_Index'].values[0]\n",
        "london_growth = (london_end - london_start) / london_start * 100\n",
        "\n",
        "# For East Midlands\n",
        "east_mid_start = east_midlands_df[east_midlands_df['Date'] == '2005-01-01']['Rental_Index'].values[0]\n",
        "east_mid_end = east_midlands_df[east_midlands_df['Date'] == '2023-12-01']['Rental_Index'].values[0]\n",
        "east_mid_growth = (east_mid_end - east_mid_start) / east_mid_start * 100\n",
        "\n",
        "# Annualized growth\n",
        "years = 2023 - 2005 + 1  # 19 years\n",
        "london_annual = (1 + london_growth/100)**(1/years) - 1\n",
        "east_mid_annual = (1 + east_mid_growth/100)**(1/years) - 1\n",
        "\n",
        "print(london_start)\n",
        "print(london_end)\n",
        "print(london_growth)\n",
        "print(london_annual)\n",
        "print(east_mid_start)\n",
        "print(east_mid_end)\n",
        "print(east_mid_growth)\n",
        "print(east_mid_annual)"
      ]
    },
    {
      "cell_type": "code",
      "execution_count": 88,
      "metadata": {},
      "outputs": [],
      "source": [
        "corr_df = england_df[['CPIH_Inflation_All','Rental_Index']].reset_index(drop=True)"
      ]
    },
    {
      "cell_type": "code",
      "execution_count": 90,
      "metadata": {},
      "outputs": [
        {
          "data": {
            "text/html": [
              "<div>\n",
              "<style scoped>\n",
              "    .dataframe tbody tr th:only-of-type {\n",
              "        vertical-align: middle;\n",
              "    }\n",
              "\n",
              "    .dataframe tbody tr th {\n",
              "        vertical-align: top;\n",
              "    }\n",
              "\n",
              "    .dataframe thead th {\n",
              "        text-align: right;\n",
              "    }\n",
              "</style>\n",
              "<table border=\"1\" class=\"dataframe\">\n",
              "  <thead>\n",
              "    <tr style=\"text-align: right;\">\n",
              "      <th></th>\n",
              "      <th>CPIH_Inflation_All</th>\n",
              "      <th>Rental_Index</th>\n",
              "    </tr>\n",
              "  </thead>\n",
              "  <tbody>\n",
              "    <tr>\n",
              "      <th>CPIH_Inflation_All</th>\n",
              "      <td>1.000000</td>\n",
              "      <td>0.345928</td>\n",
              "    </tr>\n",
              "    <tr>\n",
              "      <th>Rental_Index</th>\n",
              "      <td>0.345928</td>\n",
              "      <td>1.000000</td>\n",
              "    </tr>\n",
              "  </tbody>\n",
              "</table>\n",
              "</div>"
            ],
            "text/plain": [
              "                    CPIH_Inflation_All  Rental_Index\n",
              "CPIH_Inflation_All            1.000000      0.345928\n",
              "Rental_Index                  0.345928      1.000000"
            ]
          },
          "execution_count": 90,
          "metadata": {},
          "output_type": "execute_result"
        }
      ],
      "source": [
        "corr_df.corr()"
      ]
    },
    {
      "cell_type": "code",
      "execution_count": null,
      "metadata": {},
      "outputs": [],
      "source": []
    }
  ],
  "metadata": {
    "colab": {
      "provenance": []
    },
    "kernelspec": {
      "display_name": ".venv",
      "language": "python",
      "name": "python3"
    },
    "language_info": {
      "codemirror_mode": {
        "name": "ipython",
        "version": 3
      },
      "file_extension": ".py",
      "mimetype": "text/x-python",
      "name": "python",
      "nbconvert_exporter": "python",
      "pygments_lexer": "ipython3",
      "version": "3.13.5"
    }
  },
  "nbformat": 4,
  "nbformat_minor": 0
}
